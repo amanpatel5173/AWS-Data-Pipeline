{
 "cells": [
  {
   "cell_type": "code",
   "execution_count": null,
   "id": "3f239990-61cf-419e-808f-647fd8ffedc4",
   "metadata": {},
   "outputs": [],
   "source": [
    "import boto3\n",
    "\n",
    "glue = boto3.client('glue')\n",
    "\n",
    "def lambda_handler(event, context):\n",
    "    # Get the S3 file path\n",
    "    bucket = event['Records'][0]['s3']['bucket']['name']\n",
    "    input_key = event['Records'][0]['s3']['object']['key']\n",
    "    s3_input_path = f's3://{bucket}/{input_key}'\n",
    "\n",
    "    print(f\"Triggering Glue job with file: {s3_input_path}\")\n",
    "\n",
    "    response = glue.start_job_run(\n",
    "        JobName='automate_etl_support_tickets',  \n",
    "        Arguments={\n",
    "            '--input_file_path': s3_input_path\n",
    "        }\n",
    "    )"
   ]
  }
 ],
 "metadata": {
  "kernelspec": {
   "display_name": "Python 3 (ipykernel)",
   "language": "python",
   "name": "python3"
  },
  "language_info": {
   "codemirror_mode": {
    "name": "ipython",
    "version": 3
   },
   "file_extension": ".py",
   "mimetype": "text/x-python",
   "name": "python",
   "nbconvert_exporter": "python",
   "pygments_lexer": "ipython3",
   "version": "3.10.11"
  }
 },
 "nbformat": 4,
 "nbformat_minor": 5
}
