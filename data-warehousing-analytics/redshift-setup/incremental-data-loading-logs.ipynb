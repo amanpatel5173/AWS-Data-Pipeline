{
 "cells": [
  {
   "cell_type": "code",
   "execution_count": null,
   "id": "c0c20cdf-53e1-49a3-b545-100b1cf8e013",
   "metadata": {},
   "outputs": [],
   "source": [
    "import psycopg2\n",
    "\n",
    "# Redshift Serverless configuration\n",
    "REDSHIFT_HOST = ''\n",
    "REDSHIFT_PORT = '5439'\n",
    "REDSHIFT_DATABASE = 'careplus_db'  # Replace with your Redshift database name\n",
    "REDSHIFT_USER = 'admin'  # Replace with your Redshift username\n",
    "REDSHIFT_PASSWORD = 'HCGEifwkx015!.'  # Replace with your Redshift password\n",
    "REDSHIFT_TABLE = 'public.support_logs'  # Replace with your table name\n",
    "IAM_ROLE = ''  # Your IAM role ARN\n",
    "\n",
    "def lambda_handler(event, context):\n",
    "    # 1: read data from the bucket\n",
    "    # Get bucket and object key from the S3 event trigger\n",
    "    record = event['Records'][0]\n",
    "    bucket_name = record['s3']['bucket']['name']\n",
    "    input_key = record['s3']['object']['key']\n",
    "\n",
    "    print(f\"📥 Triggered by: s3://{bucket_name}/{input_key}\")\n",
    "\n",
    "    s3_input_path = f's3://{bucket_name}/{input_key}'\n",
    "\n",
    "    # Connect to Redshift Serverless using psycopg2\n",
    "    conn = psycopg2.connect(\n",
    "            host=REDSHIFT_HOST,\n",
    "            port=REDSHIFT_PORT,\n",
    "            dbname=REDSHIFT_DATABASE,\n",
    "            user=REDSHIFT_USER,\n",
    "            password=REDSHIFT_PASSWORD\n",
    "    )\n",
    "\n",
    "    cursor = conn.cursor()\n",
    "\n",
    "    # COPY SQL query to load data from S3 into the Redshift table\n",
    "    copy_sql = f\"\"\"\n",
    "        COPY {REDSHIFT_TABLE}\n",
    "        FROM '{s3_input_path}'\n",
    "        IAM_ROLE '{IAM_ROLE}'\n",
    "        FORMAT AS PARQUET\n",
    "        REGION 'us-east-1';\n",
    "        \"\"\"\n",
    "\n",
    "    # Execute the query\n",
    "    cursor.execute(copy_sql)\n",
    "\n",
    "    # Commit the changes (important for COPY operations)\n",
    "    conn.commit()\n",
    "\n",
    "    # Log success\n",
    "    print(f\"Data successfully copied from {s3_input_path} to {REDSHIFT_TABLE}\")\n",
    "\n",
    "\n",
    "    # Close the cursor and the connection\n",
    "    cursor.close()\n",
    "    conn.close()"
   ]
  }
 ],
 "metadata": {
  "kernelspec": {
   "display_name": "Python 3 (ipykernel)",
   "language": "python",
   "name": "python3"
  },
  "language_info": {
   "codemirror_mode": {
    "name": "ipython",
    "version": 3
   },
   "file_extension": ".py",
   "mimetype": "text/x-python",
   "name": "python",
   "nbconvert_exporter": "python",
   "pygments_lexer": "ipython3",
   "version": "3.12.4"
  }
 },
 "nbformat": 4,
 "nbformat_minor": 5
}
