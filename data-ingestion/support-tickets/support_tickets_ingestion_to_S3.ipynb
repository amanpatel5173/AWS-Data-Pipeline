{
 "cells": [
  {
   "cell_type": "markdown",
   "id": "7b882f98",
   "metadata": {},
   "source": [
    "### ingest_daily_support_tickets"
   ]
  },
  {
   "cell_type": "code",
   "execution_count": 16,
   "id": "48ca8bed",
   "metadata": {},
   "outputs": [],
   "source": [
    "import os\n",
    "import pandas as pd\n",
    "import boto3\n",
    "from io import StringIO\n",
    "from sqlalchemy import create_engine\n",
    "from datetime import datetime, timedelta\n",
    "\n",
    "\n"
   ]
  },
  {
   "cell_type": "code",
   "execution_count": 17,
   "id": "5ecfe24f-0e04-441d-8112-003b524dd9b5",
   "metadata": {},
   "outputs": [
    {
     "data": {
      "text/plain": [
       "True"
      ]
     },
     "execution_count": 17,
     "metadata": {},
     "output_type": "execute_result"
    }
   ],
   "source": [
    "from dotenv import load_dotenv\n",
    "\n",
    "load_dotenv()"
   ]
  },
  {
   "cell_type": "code",
   "execution_count": 18,
   "id": "d4adef2d-1fb5-4332-a40f-ab38ee90ce22",
   "metadata": {},
   "outputs": [
    {
     "data": {
      "text/plain": [
       "'ap-south-1'"
      ]
     },
     "execution_count": 18,
     "metadata": {},
     "output_type": "execute_result"
    }
   ],
   "source": [
    "os.getenv(\"region\")"
   ]
  },
  {
   "cell_type": "code",
   "execution_count": 19,
   "id": "8d8d3ea4",
   "metadata": {},
   "outputs": [],
   "source": [
    "# ---------- CONFIG ----------\n",
    "db_config = {\n",
    "    \"host\": \"localhost\",\n",
    "    \"port\": \"3306\",\n",
    "    \"user\": \"root\",  # your user name\n",
    "    \"password\": \"Behappy\", # your password\n",
    "    \"database\": \"careplus_support_db\"\n",
    "}\n",
    "\n",
    "S3_BUCKET = \"careplus-data-5173\" \n",
    "S3_PREFIX = \"Support-tickets/raw/\"  \n",
    "DATE_TRACKER_FILE = \"date_tracker.txt\"\n",
    "\n",
    "import os\n",
    "\n",
    "AWS_CONFIG = {\n",
    "    \"aws_access_key_id\": os.getenv(\"AWS_ACCESS_KEY\"),\n",
    "    \"aws_secret_access_key\": os.getenv(\"SECRET_KEY\"),\n",
    "    \"region_name\": os.getenv(\"REGION\")\n",
    "}"
   ]
  },
  {
   "cell_type": "code",
   "execution_count": 25,
   "id": "bf479c7f",
   "metadata": {},
   "outputs": [
    {
     "name": "stdout",
     "output_type": "stream",
     "text": [
      "(31, 10)\n",
      "    ticket_id        created_at       resolved_at   agent priority  \\\n",
      "0  TCK0702000  2025-07-02 00:01  2025-07-02 02:50   Kavya      Low   \n",
      "1  TCK0702001  2025-07-02 00:07  2025-07-02 07:50  Ananya   Medium   \n",
      "2  TCK0702002  2025-07-02 00:16              None   Arjun   Medium   \n",
      "3  TCK0702003  2025-07-02 00:43              None  Ananya   Medium   \n",
      "4  TCK0702004  2025-07-02 01:36  2025-07-03 05:21   Rohit      Low   \n",
      "\n",
      "  num_interactions         IssUeCat   channel    status agent_feedback  \n",
      "0                8       Bug Report      Chat  Resolved                 \n",
      "1                8  Feature Request     Phone  Resolved                 \n",
      "2                1      Login Issue  Web Form      Open                 \n",
      "3                2       Bug Report      Chat      Open                 \n",
      "4                6  Payment Failure     Phone  Resolved                 \n",
      "✅ Uploaded to s3://careplus-data-5173/Support-tickets/raw/support_tickets_2025-07-02.csv\n",
      "📅 Updated tracker to 2025-07-02\n"
     ]
    }
   ],
   "source": [
    "# ---------- UTILITY FUNCTIONS ----------\n",
    "def get_engine(config):\n",
    "    return create_engine(f\"mysql+pymysql://{config['user']}:{config['password']}@{config['host']}:{config['port']}/{config['database']}\")\n",
    "\n",
    "def upload_to_s3(df, bucket, key):\n",
    "    csv_buffer = StringIO()\n",
    "    df.to_csv(csv_buffer, index=False)\n",
    "\n",
    "    s3 = boto3.client('s3', **AWS_CONFIG)\n",
    "    s3.put_object(Bucket=bucket, Key=key, Body=csv_buffer.getvalue())\n",
    "    print(f\"✅ Uploaded to s3://{bucket}/{key}\")\n",
    "\n",
    "def read_last_date(file_path):\n",
    "    if os.path.exists(file_path):\n",
    "        with open(file_path, 'r') as f:\n",
    "            return f.read().strip()\n",
    "    return \"2025-06-30\"  # Starting point before 1st July\n",
    "\n",
    "def update_last_date(file_path, new_date):\n",
    "    with open(file_path, 'w') as f:\n",
    "        f.write(new_date)\n",
    "\n",
    "def get_next_date(last_date_str):\n",
    "    last_date = datetime.strptime(last_date_str, \"%Y-%m-%d\")\n",
    "    next_date = last_date + timedelta(days=1)\n",
    "    return next_date.strftime(\"%Y-%m-%d\")\n",
    "\n",
    "# ---------- MAIN INGESTION LOGIC ----------\n",
    "def run_ingestion():\n",
    "    engine = get_engine(db_config)\n",
    "    last_date = read_last_date(DATE_TRACKER_FILE)\n",
    "    next_date = get_next_date(last_date)\n",
    "\n",
    "    # Query only that day’s data\n",
    "    query = f\"\"\"\n",
    "        SELECT * FROM support_tickets\n",
    "        WHERE DATE(created_at) = '{next_date}';\n",
    "    \"\"\"\n",
    "    df = pd.read_sql(query, engine)\n",
    "    print(df.shape)\n",
    "    print(df.head())\n",
    "\n",
    "    if df.empty:\n",
    "        print(f\"⚠️ No data found for {next_date}. Skipping upload.\")\n",
    "        return\n",
    "\n",
    "    # Upload to S3\n",
    "    s3_key = f\"{S3_PREFIX}support_tickets_{next_date}.csv\"\n",
    "    upload_to_s3(df, S3_BUCKET, s3_key)\n",
    "\n",
    "    # Update date tracker\n",
    "    update_last_date(DATE_TRACKER_FILE, next_date)\n",
    "    print(f\"📅 Updated tracker to {next_date}\")\n",
    "\n",
    "# Run\n",
    "if __name__ == \"__main__\":\n",
    "    run_ingestion()"
   ]
  },
  {
   "cell_type": "code",
   "execution_count": null,
   "id": "c1ea1dbe-8ef0-4d1f-9597-2e94297c07b5",
   "metadata": {},
   "outputs": [],
   "source": []
  }
 ],
 "metadata": {
  "kernelspec": {
   "display_name": "Python 3 (ipykernel)",
   "language": "python",
   "name": "python3"
  },
  "language_info": {
   "codemirror_mode": {
    "name": "ipython",
    "version": 3
   },
   "file_extension": ".py",
   "mimetype": "text/x-python",
   "name": "python",
   "nbconvert_exporter": "python",
   "pygments_lexer": "ipython3",
   "version": "3.12.4"
  }
 },
 "nbformat": 4,
 "nbformat_minor": 5
}
