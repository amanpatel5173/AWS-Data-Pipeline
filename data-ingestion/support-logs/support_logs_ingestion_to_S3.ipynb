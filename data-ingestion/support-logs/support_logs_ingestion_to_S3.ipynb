{
 "cells": [
  {
   "cell_type": "markdown",
   "id": "ad65e0c6",
   "metadata": {},
   "source": [
    "### Codebasics Data Engineering Tutorial: Data Ingestion for Logs"
   ]
  },
  {
   "cell_type": "code",
   "execution_count": 1,
   "id": "1dc9e96f",
   "metadata": {},
   "outputs": [
    {
     "data": {
      "text/plain": [
       "'ap-south-1'"
      ]
     },
     "execution_count": 1,
     "metadata": {},
     "output_type": "execute_result"
    }
   ],
   "source": [
    "import os\n",
    "import boto3\n",
    "from datetime import datetime, timedelta\n",
    "\n",
    "# ---------- CONFIG ----------\n",
    "LOGS_FOLDER = \"day-wise-logs-data/\"\n",
    "DATE_TRACKER_FILE = \"log_date_tracker.txt\"\n",
    "\n",
    "S3_BUCKET = \"careplus-data-5173\" # this should match the exact bucket name you have setup in AWS S2\n",
    "S3_PREFIX = \"Support-logs/raw/\"\n",
    "\n",
    "from dotenv import load_dotenv\n",
    "load_dotenv()\n",
    "\n",
    "os.getenv(\"REGION\")"
   ]
  },
  {
   "cell_type": "code",
   "execution_count": 2,
   "id": "35479518",
   "metadata": {},
   "outputs": [],
   "source": [
    "import os\n",
    "\n",
    "AWS_CONFIG = {\n",
    "    \"aws_access_key_id\": os.getenv(\"AWS_ACCESS_KEY\"),\n",
    "    \"aws_secret_access_key\": os.getenv(\"SECRET_KEY\"),\n",
    "    \"region_name\": os.getenv(\"REGION\")\n",
    "}"
   ]
  },
  {
   "cell_type": "code",
   "execution_count": 3,
   "id": "1c6cd3be",
   "metadata": {},
   "outputs": [],
   "source": [
    "# ---------- UTILITY FUNCTIONS ----------\n",
    "def read_last_date(file_path):\n",
    "    if os.path.exists(file_path):\n",
    "        with open(file_path, 'r') as f:\n",
    "            return f.read().strip()\n",
    "    return \"2025-06-30\"\n",
    "\n",
    "def update_last_date(file_path, new_date):\n",
    "    with open(file_path, 'w') as f:\n",
    "        f.write(new_date)\n",
    "\n",
    "def get_next_date(last_date_str):\n",
    "    last_date = datetime.strptime(last_date_str, \"%Y-%m-%d\")\n",
    "    next_date = last_date + timedelta(days=1)\n",
    "    return next_date.strftime(\"%Y-%m-%d\")\n",
    "\n",
    "\n",
    "def upload_log_file_to_s3(file_path, bucket, key):\n",
    "    s3 = boto3.client('s3', **AWS_CONFIG)\n",
    "    with open(file_path, 'r', encoding='utf-8') as f:\n",
    "        content = f.read()\n",
    "    s3.put_object(Bucket=bucket, Key=key, Body=content)\n",
    "    print(f\"✅ Uploaded log file to s3://{bucket}/{key}\")\n",
    "\n",
    "\n",
    "# ---------- MAIN INGESTION LOGIC ----------\n",
    "def run_log_ingestion():\n",
    "    last_date = read_last_date(DATE_TRACKER_FILE)\n",
    "    next_date = get_next_date(last_date)\n",
    "    print(last_date, next_date)\n",
    "\n",
    "    file_name = f\"support_logs_{next_date}.log\"\n",
    "    log_file_full_path = os.path.join(LOGS_FOLDER, file_name)\n",
    "    print(log_file_full_path)\n",
    "    \n",
    "\n",
    "    s3_key = f\"{S3_PREFIX}support_logs_{next_date}.log\"\n",
    "    upload_log_file_to_s3(log_file_full_path, S3_BUCKET, s3_key)\n",
    "    update_last_date(DATE_TRACKER_FILE, next_date)\n",
    "    print(f\"📅 Updated tracker to {next_date}\")"
   ]
  },
  {
   "cell_type": "code",
   "execution_count": 4,
   "id": "395f4f4e",
   "metadata": {},
   "outputs": [
    {
     "name": "stdout",
     "output_type": "stream",
     "text": [
      "2025-07-02 2025-07-03\n",
      "day-wise-logs-data/support_logs_2025-07-03.log\n",
      "✅ Uploaded log file to s3://careplus-data-5173/Support-logs/raw/support_logs_2025-07-03.log\n",
      "📅 Updated tracker to 2025-07-03\n"
     ]
    }
   ],
   "source": [
    "# ---------- RUN ----------\n",
    "if __name__ == \"__main__\":\n",
    "    run_log_ingestion()"
   ]
  }
 ],
 "metadata": {
  "kernelspec": {
   "display_name": "Python 3 (ipykernel)",
   "language": "python",
   "name": "python3"
  },
  "language_info": {
   "codemirror_mode": {
    "name": "ipython",
    "version": 3
   },
   "file_extension": ".py",
   "mimetype": "text/x-python",
   "name": "python",
   "nbconvert_exporter": "python",
   "pygments_lexer": "ipython3",
   "version": "3.12.4"
  }
 },
 "nbformat": 4,
 "nbformat_minor": 5
}
